{
 "cells": [
  {
   "cell_type": "code",
   "execution_count": 106,
   "id": "11b7cdb7",
   "metadata": {},
   "outputs": [],
   "source": [
    "import tensorflow as tf\n",
    "import zipfile\n",
    "import os \n",
    "import random\n",
    "import csv\n",
    "import math\n",
    "import shutil\n",
    "import uuid\n",
    "from shutil import copyfile\n",
    "import matplotlib.pyplot as plt\n",
    "from tensorflow.keras.preprocessing.image import ImageDataGenerator\n",
    "from tensorflow.keras.utils import load_img"
   ]
  },
  {
   "cell_type": "code",
   "execution_count": 6,
   "id": "f987202f",
   "metadata": {},
   "outputs": [],
   "source": [
    "#extracting data from zip\n",
    "try:\n",
    "    local_zip = './data/archive_data/archive.zip'\n",
    "    zip_ref = zipfile.ZipFile(local_zip, 'r')\n",
    "    zip_ref.extractall('./data/data_1')\n",
    "    zip_ref.close()\n",
    "#if data is already extracted it will instead print file already extracted\n",
    "except:\n",
    "    print('file already extracted')"
   ]
  },
  {
   "cell_type": "code",
   "execution_count": 117,
   "id": "dc206f64",
   "metadata": {},
   "outputs": [],
   "source": [
    "#extracting data from zip\n",
    "try:\n",
    "    local_zip = './data/archive_data/new_dataset.zip'\n",
    "    zip_ref = zipfile.ZipFile(local_zip, 'r')\n",
    "    zip_ref.extractall('./data/data_2')\n",
    "    zip_ref.close()\n",
    "#if data is already extracted it will instead print file already extracted\n",
    "except:\n",
    "    print('file already extracted')"
   ]
  },
  {
   "cell_type": "code",
   "execution_count": 63,
   "id": "d82429f8",
   "metadata": {},
   "outputs": [],
   "source": [
    "#create directory to seperate data_1 to its label \n",
    "root_dir = \"./data/data_1/cancerimages/\"\n",
    "dir_1 = ['melanoma', 'melanocytic_nevi', 'basal_cell_carcinoma', 'bowen_disease', 'benign_keratosis', 'dermatofibroma', 'vascular_lesions']\n",
    "dir_2 = ['melanoma', 'melanocytic_nevi', 'basal_cell_carcinoma', 'bowen_disease', 'benign_keratosis', 'dermatofibroma', 'vascular_lesions', 'squamous_cell_carcinoma']\n",
    "def create_dir(root_path):\n",
    "    if os.path.exists(root_dir):\n",
    "        shutil.rmtree(root_dir)\n",
    "    else:\n",
    "        for i in dir_1:\n",
    "            os.makedirs(os.path.join(root_path, i))\n",
    "            \n",
    "create_dir(root_path=root_dir)"
   ]
  },
  {
   "cell_type": "code",
   "execution_count": 118,
   "id": "1ccd802f",
   "metadata": {},
   "outputs": [
    {
     "name": "stdout",
     "output_type": "stream",
     "text": [
      "there is 10015 data in data_1\n",
      "with 7 classifications\n"
     ]
    }
   ],
   "source": [
    "tumor=[]\n",
    "for j in range (1,8):\n",
    "    data=[]\n",
    "    img=[]\n",
    "    with open('./data/data_1/GroundTruth.csv') as f:\n",
    "        reader = csv.reader(f, delimiter=',')\n",
    "        next(reader)\n",
    "        for row in reader:\n",
    "            img.append(row[0] + '.jpg')\n",
    "            data.append(math.ceil(float(row[j])))\n",
    "        tumor.append(data)\n",
    "print(f\"there is {len(data)} data in data_1\")\n",
    "print(f\"with {len(tumor)} classifications\")"
   ]
  },
  {
   "cell_type": "code",
   "execution_count": 119,
   "id": "37c2df41",
   "metadata": {},
   "outputs": [
    {
     "name": "stdout",
     "output_type": "stream",
     "text": [
      "there is 25331 data in data_2\n",
      "with 1 classifications\n"
     ]
    }
   ],
   "source": [
    "root = './data/data_2'\n",
    "file = []\n",
    "for files in os.walk(root, topdown=True):\n",
    "    file.append(files)\n",
    "    \n",
    "ffile = file[1:]\n",
    "file = []\n",
    "counter = 0\n",
    "for x in ffile:\n",
    "    counter += len(x[2])\n",
    "\n",
    "print(f\"there is {counter} data in data_2\")\n",
    "tumor_2 = len(os.listdir(root))\n",
    "print(f\"with {tumor_2} classifications\")"
   ]
  },
  {
   "cell_type": "code",
   "execution_count": 120,
   "id": "d081718a",
   "metadata": {},
   "outputs": [
    {
     "name": "stdout",
     "output_type": "stream",
     "text": [
      "Tumor melanoma have 1113 data\n",
      "Tumor melanocytic_nevi have 6705 data\n",
      "Tumor basal_cell_carcinoma have 514 data\n",
      "Tumor bowen_disease have 327 data\n",
      "Tumor benign_keratosis have 1099 data\n",
      "Tumor dermatofibroma have 115 data\n",
      "Tumor vascular_lesions have 142 data\n"
     ]
    }
   ],
   "source": [
    "counter = 0\n",
    "for i in range (len(tumor_1)):\n",
    "    labels = []\n",
    "    for j in range (len(tumor_1[i])):\n",
    "        if tumor_1[i][j] == 1:\n",
    "            labels.append(img[j])\n",
    "    print(f\"Tumor {dir_1[counter]} have {len(labels)} data\")\n",
    "    \n",
    "    root = './data/data_1/images/'\n",
    "    root_dest = './data/data_1/cancerimages'\n",
    "    for i in labels:\n",
    "        source_img = os.path.join(root, i)\n",
    "        destination = os.path.join(f\"{root_dest}/{dir_1[counter]}\", i)\n",
    "        copyfile(source_img, destination)\n",
    "        \n",
    "    counter+=1"
   ]
  },
  {
   "cell_type": "code",
   "execution_count": 128,
   "id": "e091eee8",
   "metadata": {},
   "outputs": [],
   "source": [
    "root_dir = \"./data/final_dataset\"\n",
    "def create_dir(root_path):\n",
    "    if os.path.exists(root_dir):\n",
    "        shutil.rmtree(root_dir)\n",
    "    else:\n",
    "        os.makedirs(os.path.join(root_path, 'training'))\n",
    "        os.makedirs(os.path.join(root_path, 'validation'))\n",
    "\n",
    "        for i in dir_2:\n",
    "            os.makedirs(os.path.join(f'{root_path}/training', i))\n",
    "            os.makedirs(os.path.join(f'{root_path}/validation', i))\n",
    "            \n",
    "create_dir(root_path=root_dir)"
   ]
  },
  {
   "cell_type": "code",
   "execution_count": 123,
   "id": "5c73aa7d",
   "metadata": {},
   "outputs": [],
   "source": [
    "path = './data/data_2/ISIC_Labelled'\n",
    "\n",
    "dir_new = ['melanoma', 'melanocytic_nevi', 'basal_cell_carcinoma', 'bowen_disease', 'benign_keratosis', 'dermatofibroma', 'vascular_lesions', 'squamous_cell_carcinoma']\n",
    "dir_old = ['Melanoma', 'Melanocytic nevus', 'Basal cell carcinoma', 'Actinic keratosis', 'Benign keratosis', 'Dermatofibroma', 'Vascular lesion', 'Squamous cell carcinoma']\n",
    "\n",
    "counter = 0\n",
    "\n",
    "for filename in os.listdir(path):\n",
    "    file_path = os.path.join(path, filename)\n",
    "    name = os.path.splitext(filename)\n",
    "    \n",
    "    for i, x in enumerate(dir_old):\n",
    "        if x in name:\n",
    "            postfix = dir_new[i]\n",
    "            new_name = os.path.join(path, postfix)\n",
    "            os.rename(file_path, new_name)\n",
    "            continue\n",
    "    counter += 1"
   ]
  },
  {
   "cell_type": "code",
   "execution_count": 126,
   "id": "3bd90aca",
   "metadata": {},
   "outputs": [],
   "source": [
    "for root, dirs, files in os.walk(path):\n",
    "    for filename in files:\n",
    "        if filename.endswith('.jpg'):\n",
    "\n",
    "            new_filename = 'new_' + filename\n",
    "\n",
    "            old_filepath = os.path.join(root, filename)\n",
    "            new_filepath = os.path.join(root, new_filename)\n",
    "\n",
    "  \n",
    "            os.rename(old_filepath, new_filepath) "
   ]
  },
  {
   "cell_type": "code",
   "execution_count": 130,
   "id": "b7b3c697",
   "metadata": {},
   "outputs": [
    {
     "name": "stdout",
     "output_type": "stream",
     "text": [
      "Training data is 89\n",
      "Validation data is 22\n",
      "\n",
      "Training data is 89\n",
      "Validation data is 22\n",
      "\n",
      "Training data is 89\n",
      "Validation data is 22\n",
      "\n",
      "Training data is 89\n",
      "Validation data is 22\n",
      "\n",
      "Training data is 89\n",
      "Validation data is 22\n",
      "\n",
      "Training data is 89\n",
      "Validation data is 22\n",
      "\n",
      "Training data is 89\n",
      "Validation data is 22\n",
      "\n"
     ]
    }
   ],
   "source": [
    "counter = 0\n",
    "for i in range (len(tumor)):\n",
    "    labels = []\n",
    "    for j in range (len(tumor[i])):\n",
    "        if tumor[i][j] == 1:\n",
    "            if len(labels) > 110:\n",
    "                continue\n",
    "            else:\n",
    "                labels.append(img[j])\n",
    "    \n",
    "\n",
    "    split = round(len(labels) * 0.8)\n",
    "\n",
    "    training = labels[:split]\n",
    "    val = labels[split:]\n",
    "    print(f\"Training data is {len(training)}\")\n",
    "    print(f\"Validation data is {len(val)}\\n\")\n",
    "    \n",
    "    root = './data/data_1/images/'\n",
    "    root_dest = './data/final_dataset'\n",
    "    for i in training:\n",
    "        source_img = os.path.join(root, i)\n",
    "        destination = os.path.join(f\"{root_dest}/training/{dir_1[counter]}\", i)\n",
    "        copyfile(source_img, destination)\n",
    "    \n",
    "    for i in val:\n",
    "        source_img = os.path.join(root, i)\n",
    "        destination = os.path.join(f\"{root_dest}/validation/{dir_1[counter]}\", i)\n",
    "        copyfile(source_img, destination)\n",
    "        \n",
    "    counter+=1"
   ]
  },
  {
   "cell_type": "code",
   "execution_count": 131,
   "id": "946179f7",
   "metadata": {},
   "outputs": [
    {
     "name": "stdout",
     "output_type": "stream",
     "text": [
      "Training data is 192\n",
      "Validation data is 47\n",
      "\n",
      "Training data is 192\n",
      "Validation data is 47\n",
      "\n",
      "Training data is 192\n",
      "Validation data is 47\n",
      "\n",
      "Training data is 192\n",
      "Validation data is 47\n",
      "\n",
      "Training data is 192\n",
      "Validation data is 47\n",
      "\n",
      "Training data is 192\n",
      "Validation data is 47\n",
      "\n",
      "Training data is 192\n",
      "Validation data is 47\n",
      "\n",
      "Training data is 192\n",
      "Validation data is 47\n",
      "\n"
     ]
    }
   ],
   "source": [
    "counter = 0\n",
    "\n",
    "for file in (dir_new):\n",
    "    dir = os.listdir(f\"{path}/{file}\")\n",
    "    \n",
    "\n",
    "    training = dir[:192]\n",
    "    val = dir[192:239]\n",
    "    print(f\"Training data is {len(training)}\")\n",
    "    print(f\"Validation data is {len(val)}\\n\")\n",
    "    \n",
    "    root = './data/data_2/ISIC_Labelled/'\n",
    "    root_dest = './data/final_dataset'\n",
    "    for i in training:\n",
    "        source_img = os.path.join(f\"{root}/{dir_new[counter]}\", i)\n",
    "        destination = os.path.join(f\"{root_dest}/training/{dir_2[counter]}\", i)\n",
    "        copyfile(source_img, destination)\n",
    "    \n",
    "    for i in val:\n",
    "        source_img = os.path.join(f\"{root}/{dir_new[counter]}\", i)\n",
    "        destination = os.path.join(f\"{root_dest}/validation/{dir_2[counter]}\", i)\n",
    "        copyfile(source_img, destination)\n",
    "        \n",
    "    counter+=1"
   ]
  },
  {
   "cell_type": "code",
   "execution_count": null,
   "id": "a687f13d",
   "metadata": {},
   "outputs": [],
   "source": []
  },
  {
   "cell_type": "code",
   "execution_count": 132,
   "id": "39ae515a",
   "metadata": {},
   "outputs": [
    {
     "ename": "FileNotFoundError",
     "evalue": "[WinError 3] The system cannot find the path specified: './data/final_datasettraining/new_ISIC_0024329.jpg'",
     "output_type": "error",
     "traceback": [
      "\u001b[1;31m---------------------------------------------------------------------------\u001b[0m",
      "\u001b[1;31mFileNotFoundError\u001b[0m                         Traceback (most recent call last)",
      "Cell \u001b[1;32mIn[132], line 9\u001b[0m\n\u001b[0;32m      7\u001b[0m ax \u001b[38;5;241m=\u001b[39m axes[i][j]\n\u001b[0;32m      8\u001b[0m ax\u001b[38;5;241m.\u001b[39mset_title(\u001b[38;5;28mdir\u001b[39m[counter])\n\u001b[1;32m----> 9\u001b[0m ax\u001b[38;5;241m.\u001b[39mimshow(load_img(\u001b[38;5;124mf\u001b[39m\u001b[38;5;124m\"\u001b[39m\u001b[38;5;132;01m{\u001b[39;00mos\u001b[38;5;241m.\u001b[39mpath\u001b[38;5;241m.\u001b[39mjoin(\u001b[38;5;124mf\u001b[39m\u001b[38;5;124m'\u001b[39m\u001b[38;5;132;01m{\u001b[39;00mroot_path\u001b[38;5;132;01m}\u001b[39;00m\u001b[38;5;124m/\u001b[39m\u001b[38;5;132;01m{\u001b[39;00m\u001b[38;5;28mdir\u001b[39m[counter]\u001b[38;5;132;01m}\u001b[39;00m\u001b[38;5;124m'\u001b[39m,\u001b[38;5;250m \u001b[39m\u001b[43mos\u001b[49m\u001b[38;5;241;43m.\u001b[39;49m\u001b[43mlistdir\u001b[49m\u001b[43m(\u001b[49m\u001b[38;5;124;43mf\u001b[39;49m\u001b[38;5;124;43m'\u001b[39;49m\u001b[38;5;132;43;01m{\u001b[39;49;00m\u001b[43mroot_path\u001b[49m\u001b[38;5;241;43m+\u001b[39;49m\u001b[38;5;28;43mdir\u001b[39;49m\u001b[43m[\u001b[49m\u001b[43mcounter\u001b[49m\u001b[43m]\u001b[49m\u001b[38;5;132;43;01m}\u001b[39;49;00m\u001b[38;5;124;43m'\u001b[39;49m\u001b[43m)\u001b[49m[random\u001b[38;5;241m.\u001b[39mrandint(\u001b[38;5;241m0\u001b[39m,\u001b[38;5;241m100\u001b[39m)])\u001b[38;5;132;01m}\u001b[39;00m\u001b[38;5;124m\"\u001b[39m))\n\u001b[0;32m     10\u001b[0m ax\u001b[38;5;241m.\u001b[39mset_axis_off()\n\u001b[0;32m     11\u001b[0m plt\u001b[38;5;241m.\u001b[39mshow\n",
      "\u001b[1;31mFileNotFoundError\u001b[0m: [WinError 3] The system cannot find the path specified: './data/final_datasettraining/new_ISIC_0024329.jpg'"
     ]
    },
    {
     "data": {
      "image/png": "[encoded data removed]",
      "text/plain": [
       "<Figure size 640x480 with 6 Axes>"
      ]
     },
     "metadata": {},
     "output_type": "display_data"
    }
   ],
   "source": [
    "#show image example\n",
    "root_path = root_dir + 'training/'\n",
    "fig, axes = plt.subplots(2, 3)\n",
    "counter = 0\n",
    "for i in range(2):\n",
    "    for j in range(3):\n",
    "        ax = axes[i][j]\n",
    "        ax.set_title(dir[counter])\n",
    "        ax.imshow(load_img(f\"{os.path.join(f'{root_path}/{dir[counter]}', os.listdir(f'{root_path+dir[counter]}')[random.randint(0,100)])}\"))\n",
    "        ax.set_axis_off()\n",
    "        plt.show\n",
    "        counter += 1"
   ]
  },
  {
   "cell_type": "code",
   "execution_count": 133,
   "id": "7065cc16",
   "metadata": {},
   "outputs": [],
   "source": [
    "training_main = './data/cancerimages/training/'\n",
    "validation_main = './data/cancerimages/validation/'"
   ]
  },
  {
   "cell_type": "code",
   "execution_count": 134,
   "id": "5c198eff",
   "metadata": {},
   "outputs": [],
   "source": [
    "class_names = ['melanoma', 'melanocytic_nevi', 'basal_cell_carcinoma', 'bowen_disease', 'benign_keratosis', 'dermatofibroma', 'vascular_lesions']\n",
    "\n",
    "class_paths = []\n",
    "class_paths1 = []\n",
    "for class_name in class_names:\n",
    "    class_path = os.path.join(training_main, class_name)\n",
    "    class_path1 = os.path.join(validation_main, class_name)\n",
    "    class_paths.append(class_path)\n",
    "    class_paths1.append(class_path1)"
   ]
  },
  {
   "cell_type": "code",
   "execution_count": 30,
   "id": "60a772a2",
   "metadata": {},
   "outputs": [
    {
     "name": "stdout",
     "output_type": "stream",
     "text": [
      "./data/cancerimages/training/melanoma\n",
      "./data/cancerimages/training/melanocytic_nevi\n",
      "./data/cancerimages/training/basal_cell_carcinoma\n",
      "./data/cancerimages/training/bowen_disease\n",
      "./data/cancerimages/training/benign_keratosis\n",
      "./data/cancerimages/training/dermatofibroma\n",
      "./data/cancerimages/training/vascular_lesions\n",
      "\n",
      "\n",
      "./data/cancerimages/validation/melanoma\n",
      "./data/cancerimages/validation/melanocytic_nevi\n",
      "./data/cancerimages/validation/basal_cell_carcinoma\n",
      "./data/cancerimages/validation/bowen_disease\n",
      "./data/cancerimages/validation/benign_keratosis\n",
      "./data/cancerimages/validation/dermatofibroma\n",
      "./data/cancerimages/validation/vascular_lesions\n"
     ]
    }
   ],
   "source": [
    "for i, class_path in enumerate (class_paths):\n",
    "    print(class_path)\n",
    "print('\\n')\n",
    "for i, class_path in enumerate (class_paths1):\n",
    "    print(class_path)"
   ]
  },
  {
   "cell_type": "code",
   "execution_count": 31,
   "id": "f352de58",
   "metadata": {},
   "outputs": [],
   "source": [
    "def train_val_generators(training_main, validation_main):\n",
    "    train_datagen = ImageDataGenerator(\n",
    "        rescale=1./255.,\n",
    "        rotation_range=40,\n",
    "        width_shift_range=0.2,\n",
    "        height_shift_range=0.2,\n",
    "        shear_range=0.2,\n",
    "        zoom_range=0.2,\n",
    "        horizontal_flip=True,\n",
    "        fill_mode='nearest'\n",
    "    )\n",
    "    train_generator = train_datagen.flow_from_directory(\n",
    "        directory=training_main,\n",
    "        target_size=(150, 150),\n",
    "        batch_size=45,\n",
    "        class_mode='categorical'\n",
    "    )\n",
    "\n",
    "    validation_datagen = ImageDataGenerator(rescale=1./255.)\n",
    "    validation_generator = validation_datagen.flow_from_directory(\n",
    "        directory=validation_main,\n",
    "        target_size=(150, 150),\n",
    "        batch_size=32,\n",
    "        class_mode='categorical'\n",
    "    )\n",
    "\n",
    "    return train_generator, validation_generator"
   ]
  },
  {
   "cell_type": "code",
   "execution_count": 32,
   "id": "5c37ce29",
   "metadata": {},
   "outputs": [
    {
     "name": "stdout",
     "output_type": "stream",
     "text": [
      "Found 8012 images belonging to 7 classes.\n",
      "Found 2003 images belonging to 7 classes.\n"
     ]
    }
   ],
   "source": [
    "train_generator, validation_generator = train_val_generators(training_main, validation_main)"
   ]
  },
  {
   "cell_type": "code",
   "execution_count": 39,
   "id": "766b022c",
   "metadata": {},
   "outputs": [],
   "source": [
    "def create_model():\n",
    "    \n",
    "    model = tf.keras.models.Sequential([\n",
    "    tf.keras.layers.Conv2D(32, (3, 3), activation='relu', input_shape=(150, 150, 3)),\n",
    "    tf.keras.layers.MaxPooling2D(2, 2),\n",
    "    tf.keras.layers.Conv2D(64, (3, 3), activation='relu'),\n",
    "    tf.keras.layers.MaxPooling2D(2, 2),\n",
    "    tf.keras.layers.Conv2D(64, (3, 3), activation='relu'),\n",
    "    tf.keras.layers.MaxPooling2D(2, 2),\n",
    "    tf.keras.layers.Conv2D(128, (3, 3), activation='relu'),\n",
    "    tf.keras.layers.MaxPooling2D(2, 2),\n",
    "\n",
    "    tf.keras.layers.Flatten(),\n",
    "    tf.keras.layers.Dense(512, activation='relu'),\n",
    "    tf.keras.layers.Dense(7, activation='softmax')\n",
    "  ])\n",
    "  \n",
    "\n",
    "    model.compile(optimizer = tf.optimizers.Adam(),\n",
    "                loss = 'categorical_crossentropy',\n",
    "                metrics=['accuracy'])       \n",
    "  \n",
    "    return model"
   ]
  },
  {
   "cell_type": "code",
   "execution_count": 40,
   "id": "1a5e1f2d",
   "metadata": {},
   "outputs": [
    {
     "name": "stdout",
     "output_type": "stream",
     "text": [
      "Epoch 1/15\n",
      "63/63 [==============================] - 52s 811ms/step - loss: 1.1396 - accuracy: 0.6585\n",
      "Epoch 2/15\n",
      "63/63 [==============================] - 51s 800ms/step - loss: 1.0467 - accuracy: 0.6695\n",
      "Epoch 3/15\n",
      "63/63 [==============================] - 50s 795ms/step - loss: 0.9719 - accuracy: 0.6720\n",
      "Epoch 4/15\n",
      "63/63 [==============================] - 50s 797ms/step - loss: 0.9569 - accuracy: 0.6745\n",
      "Epoch 5/15\n",
      "63/63 [==============================] - 50s 799ms/step - loss: 0.9079 - accuracy: 0.6930\n",
      "Epoch 6/15\n",
      "63/63 [==============================] - 51s 801ms/step - loss: 0.8667 - accuracy: 0.6955\n",
      "Epoch 7/15\n",
      "63/63 [==============================] - 50s 795ms/step - loss: 0.8221 - accuracy: 0.7049\n",
      "Epoch 8/15\n",
      "63/63 [==============================] - 51s 800ms/step - loss: 0.7832 - accuracy: 0.7229\n",
      "Epoch 9/15\n",
      "63/63 [==============================] - 51s 806ms/step - loss: 0.7173 - accuracy: 0.7504\n",
      "Epoch 10/15\n",
      "63/63 [==============================] - 51s 804ms/step - loss: 0.6876 - accuracy: 0.7584\n",
      "Epoch 11/15\n",
      "63/63 [==============================] - 51s 808ms/step - loss: 0.6092 - accuracy: 0.7783\n",
      "Epoch 12/15\n",
      "63/63 [==============================] - 51s 804ms/step - loss: 0.5513 - accuracy: 0.8058\n",
      "Epoch 13/15\n",
      "63/63 [==============================] - 51s 809ms/step - loss: 0.4747 - accuracy: 0.8352\n",
      "Epoch 14/15\n",
      "63/63 [==============================] - 47s 748ms/step - loss: 0.4106 - accuracy: 0.8572\n",
      "Epoch 15/15\n",
      "63/63 [==============================] - 49s 770ms/step - loss: 0.3535 - accuracy: 0.8722\n"
     ]
    }
   ],
   "source": [
    "# Save your model\n",
    "model = create_model()\n",
    "\n",
    "from PIL import ImageFile\n",
    "ImageFile.LOAD_TRUNCATED_IMAGES = True\n",
    "# Train your model\n",
    "history = model.fit(validation_generator,\n",
    "                    epochs=15)"
   ]
  },
  {
   "cell_type": "code",
   "execution_count": null,
   "id": "e31d1bf4",
   "metadata": {},
   "outputs": [],
   "source": []
  }
 ],
 "metadata": {
  "kernelspec": {
   "display_name": "Python 3 (ipykernel)",
   "language": "python",
   "name": "python3"
  },
  "language_info": {
   "codemirror_mode": {
    "name": "ipython",
    "version": 3
   },
   "file_extension": ".py",
   "mimetype": "text/x-python",
   "name": "python",
   "nbconvert_exporter": "python",
   "pygments_lexer": "ipython3",
   "version": "3.11.2"
  }
 },
 "nbformat": 4,
 "nbformat_minor": 5
}
