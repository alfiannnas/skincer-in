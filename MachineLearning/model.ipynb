{
 "cells": [
  {
   "cell_type": "code",
   "execution_count": 17,
   "id": "11b7cdb7",
   "metadata": {},
   "outputs": [],
   "source": [
    "import tensorflow as tf\n",
    "import zipfile\n",
    "import os \n",
    "import random\n",
    "import csv\n",
    "import math\n",
    "import shutil\n",
    "from shutil import copyfile"
   ]
  },
  {
   "cell_type": "code",
   "execution_count": 3,
   "id": "f987202f",
   "metadata": {},
   "outputs": [
    {
     "name": "stdout",
     "output_type": "stream",
     "text": [
      "file already extracted\n"
     ]
    }
   ],
   "source": [
    "#extracting data from zip\n",
    "try:\n",
    "    local_zip = './data/archive.zip'\n",
    "    zip_ref = zipfile.ZipFile(local_zip, 'r')\n",
    "    zip_ref.extractall('./data')\n",
    "    zip_ref.close()\n",
    "#if data is already extracted it will instead print file already extracted\n",
    "except:\n",
    "    print('file already extracted')"
   ]
  },
  {
   "cell_type": "code",
   "execution_count": 18,
   "id": "1ccd802f",
   "metadata": {},
   "outputs": [
    {
     "name": "stdout",
     "output_type": "stream",
     "text": [
      "there is 10015 data\n",
      "7\n"
     ]
    }
   ],
   "source": [
    "tumor=[]\n",
    "for j in range (1,8):\n",
    "    data=[]\n",
    "    img=[]\n",
    "    with open('./data/GroundTruth.csv') as f:\n",
    "        reader = csv.reader(f, delimiter=',')\n",
    "        next(reader)\n",
    "        for row in reader:\n",
    "            img.append(row[0] + '.jpg')\n",
    "            data.append(math.ceil(float(row[j])))\n",
    "        tumor.append(data)\n",
    "print(f\"there is {len(data)} data\")\n",
    "print(len(tumor))"
   ]
  },
  {
   "cell_type": "code",
   "execution_count": 23,
   "id": "e091eee8",
   "metadata": {},
   "outputs": [],
   "source": [
    "root_dir = \"./data/cancerimages/\"\n",
    "dir = ['melanoma', 'melanocytic_nevi', 'basal_cell_carcinoma', 'bowen_disease', 'benign_keratosis', 'dermatofibroma', 'vascular_lesions']\n",
    "\n",
    "def create_dir(root_path):\n",
    "    if os.path.exists(root_dir):\n",
    "        shutil.rmtree(root_dir)\n",
    "    else:\n",
    "        os.makedirs(os.path.join(root_path, 'training'))\n",
    "        os.makedirs(os.path.join(root_path, 'validation'))\n",
    "\n",
    "        for i in dir:\n",
    "            os.makedirs(os.path.join(f'{root_path}/training', i))\n",
    "            os.makedirs(os.path.join(f'{root_path}/validation', i))\n",
    "            \n",
    "create_dir(root_path=root_dir)"
   ]
  },
  {
   "cell_type": "code",
   "execution_count": 24,
   "id": "b7b3c697",
   "metadata": {},
   "outputs": [
    {
     "name": "stdout",
     "output_type": "stream",
     "text": [
      "Tumor melanoma have 1113 data\n",
      "Training data is 890\n",
      "Validation data is 223\n",
      "\n",
      "Tumor melanocytic_nevi have 6705 data\n",
      "Training data is 5364\n",
      "Validation data is 1341\n",
      "\n",
      "Tumor basal_cell_carcinoma have 514 data\n",
      "Training data is 411\n",
      "Validation data is 103\n",
      "\n",
      "Tumor bowen_disease have 327 data\n",
      "Training data is 262\n",
      "Validation data is 65\n",
      "\n",
      "Tumor benign_keratosis have 1099 data\n",
      "Training data is 879\n",
      "Validation data is 220\n",
      "\n",
      "Tumor dermatofibroma have 115 data\n",
      "Training data is 92\n",
      "Validation data is 23\n",
      "\n",
      "Tumor vascular_lesions have 142 data\n",
      "Training data is 114\n",
      "Validation data is 28\n",
      "\n"
     ]
    }
   ],
   "source": [
    "counter = 0\n",
    "for i in range (len(tumor)):\n",
    "    labels = []\n",
    "    for j in range (len(tumor[i])):\n",
    "        if tumor[i][j] == 1:\n",
    "            labels.append(img[j])\n",
    "    print(f\"Tumor {dir[counter]} have {len(labels)} data\")\n",
    "    split = round(len(labels) * 0.8)\n",
    "\n",
    "    training = labels[:split]\n",
    "    val = labels[split:]\n",
    "    print(f\"Training data is {len(training)}\")\n",
    "    print(f\"Validation data is {len(val)}\\n\")\n",
    "    \n",
    "    root = './data/images/'\n",
    "    root_dest = './data/cancerimages'\n",
    "    for i in training:\n",
    "        source_img = os.path.join(root, i)\n",
    "        destination = os.path.join(f\"{root_dest}/training/{dir[counter]}\", i)\n",
    "        copyfile(source_img, destination)\n",
    "    \n",
    "    for i in val:\n",
    "        source_img = os.path.join(root, i)\n",
    "        destination = os.path.join(f\"{root_dest}/validation/{dir[counter]}\", i)\n",
    "        copyfile(source_img, destination)\n",
    "        \n",
    "    counter+=1"
   ]
  },
  {
   "cell_type": "code",
   "execution_count": null,
   "id": "f352de58",
   "metadata": {},
   "outputs": [],
   "source": []
  }
 ],
 "metadata": {
  "kernelspec": {
   "display_name": "Python 3 (ipykernel)",
   "language": "python",
   "name": "python3"
  },
  "language_info": {
   "codemirror_mode": {
    "name": "ipython",
    "version": 3
   },
   "file_extension": ".py",
   "mimetype": "text/x-python",
   "name": "python",
   "nbconvert_exporter": "python",
   "pygments_lexer": "ipython3",
   "version": "3.7.16"
  }
 },
 "nbformat": 4,
 "nbformat_minor": 5
}
