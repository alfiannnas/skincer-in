{
 "cells": [
  {
   "cell_type": "code",
   "execution_count": 157,
   "id": "11b7cdb7",
   "metadata": {},
   "outputs": [],
   "source": [
    "import tensorflow as tf\n",
    "import zipfile\n",
    "import os \n",
    "import random\n",
    "import csv\n",
    "import math\n",
    "import shutil\n",
    "from shutil import copyfile\n",
    "import matplotlib.pyplot as plt"
   ]
  },
  {
   "cell_type": "code",
   "execution_count": 9,
   "id": "f987202f",
   "metadata": {},
   "outputs": [],
   "source": [
    "#extracting data from zip\n",
    "try:\n",
    "    local_zip = './data/archive.zip'\n",
    "    zip_ref = zipfile.ZipFile(local_zip, 'r')\n",
    "    zip_ref.extractall('./data')\n",
    "    zip_ref.close()\n",
    "#if data is already extracted it will instead print file already extracted\n",
    "except:\n",
    "    print('file already extracted')"
   ]
  },
  {
   "cell_type": "code",
   "execution_count": 10,
   "id": "1ccd802f",
   "metadata": {},
   "outputs": [
    {
     "name": "stdout",
     "output_type": "stream",
     "text": [
      "there is 10015 data\n",
      "7\n"
     ]
    }
   ],
   "source": [
    "tumor=[]\n",
    "for j in range (1,8):\n",
    "    data=[]\n",
    "    img=[]\n",
    "    with open('./data/GroundTruth.csv') as f:\n",
    "        reader = csv.reader(f, delimiter=',')\n",
    "        next(reader)\n",
    "        for row in reader:\n",
    "            img.append(row[0] + '.jpg')\n",
    "            data.append(math.ceil(float(row[j])))\n",
    "        tumor.append(data)\n",
    "print(f\"there is {len(data)} data\")\n",
    "print(len(tumor))"
   ]
  },
  {
   "cell_type": "code",
   "execution_count": 11,
   "id": "e091eee8",
   "metadata": {},
   "outputs": [],
   "source": [
    "root_dir = \"./data/cancerimages/\"\n",
    "dir = ['melanoma', 'melanocytic_nevi', 'basal_cell_carcinoma', 'bowen_disease', 'benign_keratosis', 'dermatofibroma', 'vascular_lesions']\n",
    "\n",
    "def create_dir(root_path):\n",
    "    if os.path.exists(root_dir):\n",
    "        shutil.rmtree(root_dir)\n",
    "    else:\n",
    "        os.makedirs(os.path.join(root_path, 'training'))\n",
    "        os.makedirs(os.path.join(root_path, 'validation'))\n",
    "\n",
    "        for i in dir:\n",
    "            os.makedirs(os.path.join(f'{root_path}/training', i))\n",
    "            os.makedirs(os.path.join(f'{root_path}/validation', i))\n",
    "            \n",
    "create_dir(root_path=root_dir)"
   ]
  },
  {
   "cell_type": "code",
   "execution_count": 12,
   "id": "b7b3c697",
   "metadata": {},
   "outputs": [
    {
     "name": "stdout",
     "output_type": "stream",
     "text": [
      "Tumor melanoma have 1113 data\n",
      "Training data is 890\n",
      "Validation data is 223\n",
      "\n",
      "Tumor melanocytic_nevi have 6705 data\n",
      "Training data is 5364\n",
      "Validation data is 1341\n",
      "\n",
      "Tumor basal_cell_carcinoma have 514 data\n",
      "Training data is 411\n",
      "Validation data is 103\n",
      "\n",
      "Tumor bowen_disease have 327 data\n",
      "Training data is 262\n",
      "Validation data is 65\n",
      "\n",
      "Tumor benign_keratosis have 1099 data\n",
      "Training data is 879\n",
      "Validation data is 220\n",
      "\n",
      "Tumor dermatofibroma have 115 data\n",
      "Training data is 92\n",
      "Validation data is 23\n",
      "\n",
      "Tumor vascular_lesions have 142 data\n",
      "Training data is 114\n",
      "Validation data is 28\n",
      "\n"
     ]
    }
   ],
   "source": [
    "counter = 0\n",
    "for i in range (len(tumor)):\n",
    "    labels = []\n",
    "    for j in range (len(tumor[i])):\n",
    "        if tumor[i][j] == 1:\n",
    "            labels.append(img[j])\n",
    "    print(f\"Tumor {dir[counter]} have {len(labels)} data\")\n",
    "    split = round(len(labels) * 0.8)\n",
    "\n",
    "    training = labels[:split]\n",
    "    val = labels[split:]\n",
    "    print(f\"Training data is {len(training)}\")\n",
    "    print(f\"Validation data is {len(val)}\\n\")\n",
    "    \n",
    "    root = './data/images/'\n",
    "    root_dest = './data/cancerimages'\n",
    "    for i in training:\n",
    "        source_img = os.path.join(root, i)\n",
    "        destination = os.path.join(f\"{root_dest}/training/{dir[counter]}\", i)\n",
    "        copyfile(source_img, destination)\n",
    "    \n",
    "    for i in val:\n",
    "        source_img = os.path.join(root, i)\n",
    "        destination = os.path.join(f\"{root_dest}/validation/{dir[counter]}\", i)\n",
    "        copyfile(source_img, destination)\n",
    "        \n",
    "    counter+=1"
   ]
  },
  {
   "cell_type": "code",
   "execution_count": 294,
   "id": "b5290bbf",
   "metadata": {},
   "outputs": [],
   "source": [
    "training_main = './data/cancerimages/training/'\n",
    "validation_main = './data/cancerimages/validation/'"
   ]
  },
  {
   "cell_type": "code",
   "execution_count": 295,
   "id": "f42868b1",
   "metadata": {},
   "outputs": [],
   "source": [
    "class_names = ['melanoma', 'melanocytic_nevi', 'basal_cell_carcinoma', 'bowen_disease', 'benign_keratosis', 'dermatofibroma', 'vascular_lesions']\n",
    "\n",
    "class_paths = []\n",
    "class_paths1 = []\n",
    "for class_name in class_names:\n",
    "    class_path = os.path.join(training_main, class_name)\n",
    "    class_path1 = os.path.join(validation_main, class_name)\n",
    "    class_paths.append(class_path)\n",
    "    class_paths1.append(class_path1)"
   ]
  },
  {
   "cell_type": "code",
   "execution_count": 297,
   "id": "4b4ff238",
   "metadata": {},
   "outputs": [
    {
     "name": "stdout",
     "output_type": "stream",
     "text": [
      "melanoma ./data/cancerimages/training/melanoma\n",
      "melanocytic_nevi ./data/cancerimages/training/melanocytic_nevi\n",
      "basal_cell_carcinoma ./data/cancerimages/training/basal_cell_carcinoma\n",
      "bowen_disease ./data/cancerimages/training/bowen_disease\n",
      "benign_keratosis ./data/cancerimages/training/benign_keratosis\n",
      "dermatofibroma ./data/cancerimages/training/dermatofibroma\n",
      "vascular_lesions ./data/cancerimages/training/vascular_lesions\n",
      "melanoma ./data/cancerimages/validation/melanoma\n",
      "melanocytic_nevi ./data/cancerimages/validation/melanocytic_nevi\n",
      "basal_cell_carcinoma ./data/cancerimages/validation/basal_cell_carcinoma\n",
      "bowen_disease ./data/cancerimages/validation/bowen_disease\n",
      "benign_keratosis ./data/cancerimages/validation/benign_keratosis\n",
      "dermatofibroma ./data/cancerimages/validation/dermatofibroma\n",
      "vascular_lesions ./data/cancerimages/validation/vascular_lesions\n"
     ]
    }
   ],
   "source": [
    "for i, class_path in enumerate (class_paths):\n",
    "    print(class_names[i], class_path)\n",
    "    \n",
    "for i, class_path in enumerate (class_paths1):\n",
    "    print(class_names[i], class_path)"
   ]
  },
  {
   "cell_type": "code",
   "execution_count": 298,
   "id": "8c32be8c",
   "metadata": {},
   "outputs": [
    {
     "name": "stdout",
     "output_type": "stream",
     "text": [
      "['ISIC_0033333.jpg', 'ISIC_0033336.jpg', 'ISIC_0033337.jpg', 'ISIC_0033344.jpg', 'ISIC_0033362.jpg', 'ISIC_0033368.jpg', 'ISIC_0033369.jpg', 'ISIC_0033377.jpg', 'ISIC_0033387.jpg', 'ISIC_0033392.jpg', 'ISIC_0033393.jpg', 'ISIC_0033394.jpg', 'ISIC_0033399.jpg', 'ISIC_0033405.jpg', 'ISIC_0033415.jpg', 'ISIC_0033416.jpg', 'ISIC_0033424.jpg', 'ISIC_0033426.jpg', 'ISIC_0033428.jpg', 'ISIC_0033429.jpg', 'ISIC_0033431.jpg', 'ISIC_0033432.jpg', 'ISIC_0033440.jpg', 'ISIC_0033444.jpg', 'ISIC_0033452.jpg', 'ISIC_0033454.jpg', 'ISIC_0033469.jpg', 'ISIC_0033470.jpg', 'ISIC_0033473.jpg', 'ISIC_0033476.jpg', 'ISIC_0033477.jpg', 'ISIC_0033479.jpg', 'ISIC_0033485.jpg', 'ISIC_0033487.jpg', 'ISIC_0033496.jpg', 'ISIC_0033498.jpg', 'ISIC_0033500.jpg', 'ISIC_0033518.jpg', 'ISIC_0033520.jpg', 'ISIC_0033522.jpg', 'ISIC_0033524.jpg', 'ISIC_0033526.jpg', 'ISIC_0033533.jpg', 'ISIC_0033534.jpg', 'ISIC_0033538.jpg', 'ISIC_0033545.jpg', 'ISIC_0033546.jpg', 'ISIC_0033559.jpg', 'ISIC_0033560.jpg', 'ISIC_0033562.jpg', 'ISIC_0033568.jpg', 'ISIC_0033569.jpg', 'ISIC_0033570.jpg', 'ISIC_0033573.jpg', 'ISIC_0033578.jpg', 'ISIC_0033586.jpg', 'ISIC_0033593.jpg', 'ISIC_0033594.jpg', 'ISIC_0033595.jpg', 'ISIC_0033603.jpg', 'ISIC_0033607.jpg', 'ISIC_0033611.jpg', 'ISIC_0033612.jpg', 'ISIC_0033616.jpg', 'ISIC_0033619.jpg', 'ISIC_0033624.jpg', 'ISIC_0033630.jpg', 'ISIC_0033636.jpg', 'ISIC_0033638.jpg', 'ISIC_0033643.jpg', 'ISIC_0033644.jpg', 'ISIC_0033651.jpg', 'ISIC_0033653.jpg', 'ISIC_0033654.jpg', 'ISIC_0033655.jpg', 'ISIC_0033662.jpg', 'ISIC_0033663.jpg', 'ISIC_0033668.jpg', 'ISIC_0033670.jpg', 'ISIC_0033678.jpg', 'ISIC_0033679.jpg', 'ISIC_0033687.jpg', 'ISIC_0033696.jpg', 'ISIC_0033700.jpg', 'ISIC_0033704.jpg', 'ISIC_0033708.jpg', 'ISIC_0033710.jpg', 'ISIC_0033713.jpg', 'ISIC_0033717.jpg', 'ISIC_0033725.jpg', 'ISIC_0033728.jpg', 'ISIC_0033730.jpg', 'ISIC_0033752.jpg', 'ISIC_0033754.jpg', 'ISIC_0033773.jpg', 'ISIC_0033779.jpg', 'ISIC_0033801.jpg', 'ISIC_0033802.jpg', 'ISIC_0033804.jpg', 'ISIC_0033805.jpg', 'ISIC_0033806.jpg', 'ISIC_0033807.jpg', 'ISIC_0033812.jpg', 'ISIC_0033813.jpg', 'ISIC_0033814.jpg', 'ISIC_0033819.jpg', 'ISIC_0033820.jpg', 'ISIC_0033831.jpg', 'ISIC_0033834.jpg', 'ISIC_0033843.jpg', 'ISIC_0033848.jpg', 'ISIC_0033856.jpg', 'ISIC_0033863.jpg', 'ISIC_0033871.jpg', 'ISIC_0033872.jpg', 'ISIC_0033874.jpg', 'ISIC_0033878.jpg', 'ISIC_0033881.jpg', 'ISIC_0033883.jpg', 'ISIC_0033885.jpg', 'ISIC_0033886.jpg', 'ISIC_0033893.jpg', 'ISIC_0033901.jpg', 'ISIC_0033902.jpg', 'ISIC_0033905.jpg', 'ISIC_0033911.jpg', 'ISIC_0033925.jpg', 'ISIC_0033931.jpg', 'ISIC_0033938.jpg', 'ISIC_0033942.jpg', 'ISIC_0033946.jpg', 'ISIC_0033947.jpg', 'ISIC_0033953.jpg', 'ISIC_0033956.jpg', 'ISIC_0033957.jpg', 'ISIC_0033962.jpg', 'ISIC_0033967.jpg', 'ISIC_0033968.jpg', 'ISIC_0033975.jpg', 'ISIC_0033977.jpg', 'ISIC_0033980.jpg', 'ISIC_0033981.jpg', 'ISIC_0033985.jpg', 'ISIC_0033986.jpg', 'ISIC_0033995.jpg', 'ISIC_0033999.jpg', 'ISIC_0034000.jpg', 'ISIC_0034002.jpg', 'ISIC_0034005.jpg', 'ISIC_0034006.jpg', 'ISIC_0034012.jpg', 'ISIC_0034022.jpg', 'ISIC_0034028.jpg', 'ISIC_0034034.jpg', 'ISIC_0034036.jpg', 'ISIC_0034046.jpg', 'ISIC_0034048.jpg', 'ISIC_0034049.jpg', 'ISIC_0034050.jpg', 'ISIC_0034051.jpg', 'ISIC_0034052.jpg', 'ISIC_0034059.jpg', 'ISIC_0034061.jpg', 'ISIC_0034062.jpg', 'ISIC_0034064.jpg', 'ISIC_0034065.jpg', 'ISIC_0034068.jpg', 'ISIC_0034071.jpg', 'ISIC_0034074.jpg', 'ISIC_0034076.jpg', 'ISIC_0034085.jpg', 'ISIC_0034087.jpg', 'ISIC_0034089.jpg', 'ISIC_0034092.jpg', 'ISIC_0034094.jpg', 'ISIC_0034100.jpg', 'ISIC_0034101.jpg', 'ISIC_0034104.jpg', 'ISIC_0034106.jpg', 'ISIC_0034107.jpg', 'ISIC_0034117.jpg', 'ISIC_0034118.jpg', 'ISIC_0034120.jpg', 'ISIC_0034132.jpg', 'ISIC_0034134.jpg', 'ISIC_0034140.jpg', 'ISIC_0034141.jpg', 'ISIC_0034145.jpg', 'ISIC_0034150.jpg', 'ISIC_0034159.jpg', 'ISIC_0034162.jpg', 'ISIC_0034170.jpg', 'ISIC_0034172.jpg', 'ISIC_0034173.jpg', 'ISIC_0034180.jpg', 'ISIC_0034183.jpg', 'ISIC_0034188.jpg', 'ISIC_0034202.jpg', 'ISIC_0034205.jpg', 'ISIC_0034208.jpg', 'ISIC_0034211.jpg', 'ISIC_0034216.jpg', 'ISIC_0034218.jpg', 'ISIC_0034222.jpg', 'ISIC_0034233.jpg', 'ISIC_0034236.jpg', 'ISIC_0034239.jpg', 'ISIC_0034242.jpg', 'ISIC_0034243.jpg', 'ISIC_0034246.jpg', 'ISIC_0034253.jpg', 'ISIC_0034256.jpg', 'ISIC_0034262.jpg', 'ISIC_0034263.jpg', 'ISIC_0034269.jpg', 'ISIC_0034275.jpg', 'ISIC_0034284.jpg', 'ISIC_0034287.jpg', 'ISIC_0034289.jpg', 'ISIC_0034294.jpg', 'ISIC_0034313.jpg', 'ISIC_0034316.jpg', 'ISIC_0034317.jpg']\n"
     ]
    }
   ],
   "source": [
    "print(os.listdir(class_paths1[0]))"
   ]
  },
  {
   "cell_type": "code",
   "execution_count": 299,
   "id": "8e2c8e0c",
   "metadata": {},
   "outputs": [],
   "source": [
    "from tensorflow.keras.preprocessing.image import ImageDataGenerator"
   ]
  },
  {
   "cell_type": "code",
   "execution_count": 293,
   "id": "638fb497",
   "metadata": {},
   "outputs": [],
   "source": [
    "training_main = \"C:\\\\Users\\\\Alfiann\\\\skincer-in\\\\MachineLearning\\\\data\\\\cancerimages\\\\training\"\n",
    "validation_main = \"C:\\\\Users\\\\Alfiann\\\\skincer-in\\\\MachineLearning\\\\data\\\\cancerimages\\\\validation\""
   ]
  },
  {
   "cell_type": "code",
   "execution_count": 305,
   "id": "f352de58",
   "metadata": {},
   "outputs": [],
   "source": [
    "# GRADED FUNCTION: train_val_generators\n",
    "\n",
    "def train_val_generators(training_main, validation_main):\n",
    "    train_datagen = ImageDataGenerator(\n",
    "        rescale=1./255.,\n",
    "        rotation_range=40,\n",
    "        width_shift_range=0.2,\n",
    "        height_shift_range=0.2,\n",
    "        shear_range=0.2,\n",
    "        zoom_range=0.2,\n",
    "        horizontal_flip=True,\n",
    "        fill_mode='nearest'\n",
    "    )\n",
    "    train_generator = train_datagen.flow_from_directory(\n",
    "        directory=training_main,\n",
    "        target_size=(150, 150),\n",
    "        batch_size=45,\n",
    "        class_mode='categorical'\n",
    "    )\n",
    "\n",
    "    validation_datagen = ImageDataGenerator(rescale=1./255.)\n",
    "    validation_generator = validation_datagen.flow_from_directory(\n",
    "        directory=validation_main,\n",
    "        target_size=(150, 150),\n",
    "        batch_size=32,\n",
    "        class_mode='categorical'\n",
    "    )\n",
    "\n",
    "    return train_generator, validation_generator"
   ]
  },
  {
   "cell_type": "code",
   "execution_count": 306,
   "id": "53969ed4",
   "metadata": {},
   "outputs": [
    {
     "name": "stdout",
     "output_type": "stream",
     "text": [
      "Found 8012 images belonging to 7 classes.\n",
      "Found 2003 images belonging to 7 classes.\n"
     ]
    }
   ],
   "source": [
    "train_generator, validation_generator = train_val_generators(training_main, validation_main)"
   ]
  },
  {
   "cell_type": "code",
   "execution_count": 307,
   "id": "3997afab",
   "metadata": {},
   "outputs": [
    {
     "name": "stdout",
     "output_type": "stream",
     "text": [
      "['basal_cell_carcinoma', 'benign_keratosis', 'bowen_disease', 'dermatofibroma', 'melanocytic_nevi', 'melanoma', 'vascular_lesions']\n"
     ]
    }
   ],
   "source": [
    "print(os.listdir(training_main))"
   ]
  },
  {
   "cell_type": "code",
   "execution_count": 315,
   "id": "6039b329",
   "metadata": {},
   "outputs": [],
   "source": [
    "def create_model():\n",
    "\n",
    "  ### START CODE HERE       \n",
    "\n",
    "  # Define the model\n",
    "  # Use no more than 2 Conv2D and 2 MaxPooling2D\n",
    "  model = tf.keras.models.Sequential([\n",
    "    tf.keras.layers.Conv2D(64, (3, 3), activation='relu', input_shape=(150, 150, 3)),\n",
    "    tf.keras.layers.MaxPooling2D(2, 2),\n",
    "    tf.keras.layers.Conv2D(64, (3, 3), activation='relu', input_shape=(150, 150, 3)),\n",
    "    tf.keras.layers.MaxPooling2D(2, 2),\n",
    "    # Flatten\n",
    "    tf.keras.layers.Flatten(),\n",
    "    tf.keras.layers.Dense(100, activation='relu'),\n",
    "    # 26 classes\n",
    "    tf.keras.layers.Dense(7, activation='softmax')\n",
    "  ])\n",
    "  \n",
    "\n",
    "  model.compile(optimizer = tf.optimizers.Adam(),\n",
    "                loss = 'categorical_crossentropy',\n",
    "                metrics=['accuracy'])\n",
    "\n",
    "  ### END CODE HERE       \n",
    "  \n",
    "  return model"
   ]
  },
  {
   "cell_type": "code",
   "execution_count": null,
   "id": "95a15938",
   "metadata": {},
   "outputs": [
    {
     "name": "stdout",
     "output_type": "stream",
     "text": [
      "Epoch 1/15\n",
      "179/179 [==============================] - 523s 3s/step - loss: 1.1254 - accuracy: 0.6641 - val_loss: 1.1038 - val_accuracy: 0.6640\n",
      "Epoch 2/15\n",
      " 42/179 [======>.......................] - ETA: 4:16 - loss: 1.0100 - accuracy: 0.6624"
     ]
    }
   ],
   "source": [
    "# Save your model\n",
    "model = create_model()\n",
    "\n",
    "\n",
    "# Train your model\n",
    "history = model.fit(train_generator,\n",
    "                    epochs=15,\n",
    "                    validation_data=validation_generator)"
   ]
  },
  {
   "cell_type": "code",
   "execution_count": null,
   "id": "b5c56270",
   "metadata": {},
   "outputs": [],
   "source": []
  },
  {
   "cell_type": "code",
   "execution_count": null,
   "id": "2172b7e8",
   "metadata": {},
   "outputs": [],
   "source": []
  }
 ],
 "metadata": {
  "kernelspec": {
   "display_name": "Python 3 (ipykernel)",
   "language": "python",
   "name": "python3"
  },
  "language_info": {
   "codemirror_mode": {
    "name": "ipython",
    "version": 3
   },
   "file_extension": ".py",
   "mimetype": "text/x-python",
   "name": "python",
   "nbconvert_exporter": "python",
   "pygments_lexer": "ipython3",
   "version": "3.11.2"
  }
 },
 "nbformat": 4,
 "nbformat_minor": 5
}
